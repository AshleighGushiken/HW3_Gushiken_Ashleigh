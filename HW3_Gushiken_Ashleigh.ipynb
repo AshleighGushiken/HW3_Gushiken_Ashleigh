{
 "cells": [
  {
   "cell_type": "code",
   "execution_count": 3,
   "id": "3c1c92ab",
   "metadata": {},
   "outputs": [
    {
     "name": "stdout",
     "output_type": "stream",
     "text": [
      "90\n",
      "Class's average is: 75.20\n"
     ]
    }
   ],
   "source": [
    "#Problem 1 Questions 1 and 2\n",
    "def print_student(student_name):\n",
    "    marks = {'Andy':88, 'Amy':66, 'James':90, 'Jules':55, 'Arthur':77}\n",
    "    for student in marks:\n",
    "        if student == student_name:\n",
    "            print(marks[student])\n",
    "            break\n",
    "    else:\n",
    "        print(\"Cannot find this student's name\")\n",
    "print_student('James')\n",
    "\n",
    "all_grades_total = 0\n",
    "all_grades_count = 0\n",
    "\n",
    "marks = {'Andy':88, 'Amy':66, 'James':90, 'Jules':55, 'Arthur':77}\n",
    "for name, grades in marks.items():\n",
    "    total = 88 + 66 + 90 + 55 + 77\n",
    "    all_grades_total += total\n",
    "    all_grades_count += len(marks)\n",
    "    \n",
    "print(f\"Class's average is: {all_grades_total / all_grades_count:.2f}\")\n"
   ]
  },
  {
   "cell_type": "code",
   "execution_count": 75,
   "id": "b16673cf",
   "metadata": {},
   "outputs": [
    {
     "name": "stdout",
     "output_type": "stream",
     "text": [
      "0 0\n",
      "1 1\n",
      "2 4\n",
      "3 9\n",
      "4 16\n",
      "5 25\n",
      "6 36\n",
      "7 49\n",
      "8 64\n",
      "greater than 8\n"
     ]
    }
   ],
   "source": [
    "#Problem 2\n",
    "def less_greater(num):\n",
    "    n = 0\n",
    "    while n <= 8:\n",
    "        print(n, n**2)\n",
    "        n+=1\n",
    "    else:\n",
    "        print(\"greater than 8\")\n",
    "less_greater(8)"
   ]
  },
  {
   "cell_type": "code",
   "execution_count": 76,
   "id": "8d8a13c7",
   "metadata": {},
   "outputs": [
    {
     "name": "stdout",
     "output_type": "stream",
     "text": [
      "36\n"
     ]
    }
   ],
   "source": [
    "#Problem 3\n",
    "def sumfunction(num):\n",
    "    n = 1\n",
    "    sum = 0\n",
    "    while n <= num:\n",
    "        sum = sum + n\n",
    "        n = n + 1\n",
    "    print(sum)\n",
    "sumfunction(8)"
   ]
  },
  {
   "cell_type": "code",
   "execution_count": 85,
   "id": "38a75a51",
   "metadata": {},
   "outputs": [
    {
     "name": "stdout",
     "output_type": "stream",
     "text": [
      "0\n",
      "1\n",
      "3\n",
      "6\n",
      "10\n",
      "15\n",
      "21\n",
      "28\n",
      "36\n"
     ]
    }
   ],
   "source": [
    "#Problem 4\n",
    "def range_sum(num):\n",
    "    sum = 0\n",
    "    for n in range(num):\n",
    "        sum = sum + n\n",
    "        print(sum)\n",
    "range_sum(9)"
   ]
  },
  {
   "cell_type": "code",
   "execution_count": 7,
   "id": "6781226f",
   "metadata": {},
   "outputs": [
    {
     "data": {
      "text/plain": [
       "50.5"
      ]
     },
     "execution_count": 7,
     "metadata": {},
     "output_type": "execute_result"
    }
   ],
   "source": [
    "#Problem 5 (mean)\n",
    "def average(*args):\n",
    "    return sum(args)/len(args)\n",
    "average(1, 100)"
   ]
  },
  {
   "cell_type": "code",
   "execution_count": 6,
   "id": "995c18a1",
   "metadata": {},
   "outputs": [
    {
     "data": {
      "text/plain": [
       "4950"
      ]
     },
     "execution_count": 6,
     "metadata": {},
     "output_type": "execute_result"
    }
   ],
   "source": [
    "#Problem 5, sum\n",
    "sum(range(1,100))"
   ]
  },
  {
   "cell_type": "code",
   "execution_count": 8,
   "id": "1d789664",
   "metadata": {},
   "outputs": [
    {
     "data": {
      "text/plain": [
       "28.577380332470412"
      ]
     },
     "execution_count": 8,
     "metadata": {},
     "output_type": "execute_result"
    }
   ],
   "source": [
    "#Problem 5, standard deviation\n",
    "import statistics\n",
    "statistics.pstdev(range(1, 100))"
   ]
  },
  {
   "cell_type": "code",
   "execution_count": 4,
   "id": "d24402d9",
   "metadata": {},
   "outputs": [
    {
     "data": {
      "text/plain": [
       "4"
      ]
     },
     "execution_count": 4,
     "metadata": {},
     "output_type": "execute_result"
    }
   ],
   "source": [
    "#Problem 6\n",
    "def minimal(v1, v2, v3, v4):\n",
    "    min_value = v1\n",
    "    if v2 < min_value:\n",
    "        min_value = v2\n",
    "    if v3 < min_value:\n",
    "        min_value = v3\n",
    "    if v4 < min_value:\n",
    "        min_value = v4\n",
    "    return min_value\n",
    "minimal(4, 16, 22, 25)"
   ]
  },
  {
   "cell_type": "code",
   "execution_count": 10,
   "id": "4a45a6c4",
   "metadata": {},
   "outputs": [
    {
     "data": {
      "text/plain": [
       "['Dog', 'Cat', 'Horse']"
      ]
     },
     "execution_count": 10,
     "metadata": {},
     "output_type": "execute_result"
    }
   ],
   "source": [
    "#Problem 7\n",
    "list1 = [\"Dog\"]\n",
    "list2 = [\"Cat\"]\n",
    "list3 = [\"Horse\"]\n",
    "concatenated_list = list1 + list2 + list3\n",
    "concatenated_list"
   ]
  }
 ],
 "metadata": {
  "kernelspec": {
   "display_name": "Python 3 (ipykernel)",
   "language": "python",
   "name": "python3"
  },
  "language_info": {
   "codemirror_mode": {
    "name": "ipython",
    "version": 3
   },
   "file_extension": ".py",
   "mimetype": "text/x-python",
   "name": "python",
   "nbconvert_exporter": "python",
   "pygments_lexer": "ipython3",
   "version": "3.9.13"
  }
 },
 "nbformat": 4,
 "nbformat_minor": 5
}
